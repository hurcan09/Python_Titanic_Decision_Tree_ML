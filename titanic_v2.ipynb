{
 "cells": [
  {
   "cell_type": "code",
   "execution_count": 1,
   "id": "565c9920-c086-40f2-9424-b0b686819d28",
   "metadata": {},
   "outputs": [
    {
     "data": {
      "text/html": [
       "<div>\n",
       "<style scoped>\n",
       "    .dataframe tbody tr th:only-of-type {\n",
       "        vertical-align: middle;\n",
       "    }\n",
       "\n",
       "    .dataframe tbody tr th {\n",
       "        vertical-align: top;\n",
       "    }\n",
       "\n",
       "    .dataframe thead th {\n",
       "        text-align: right;\n",
       "    }\n",
       "</style>\n",
       "<table border=\"1\" class=\"dataframe\">\n",
       "  <thead>\n",
       "    <tr style=\"text-align: right;\">\n",
       "      <th></th>\n",
       "      <th>pclass</th>\n",
       "      <th>survived</th>\n",
       "      <th>name</th>\n",
       "      <th>sex</th>\n",
       "      <th>age</th>\n",
       "      <th>sibsp</th>\n",
       "      <th>parch</th>\n",
       "      <th>ticket</th>\n",
       "      <th>fare</th>\n",
       "      <th>cabin</th>\n",
       "      <th>embarked</th>\n",
       "      <th>boat</th>\n",
       "      <th>body</th>\n",
       "      <th>home.dest</th>\n",
       "    </tr>\n",
       "  </thead>\n",
       "  <tbody>\n",
       "    <tr>\n",
       "      <th>0</th>\n",
       "      <td>1.0</td>\n",
       "      <td>1.0</td>\n",
       "      <td>Allen, Miss. Elisabeth Walton</td>\n",
       "      <td>female</td>\n",
       "      <td>29.0000</td>\n",
       "      <td>0.0</td>\n",
       "      <td>0.0</td>\n",
       "      <td>24160</td>\n",
       "      <td>211.3375</td>\n",
       "      <td>B5</td>\n",
       "      <td>S</td>\n",
       "      <td>2</td>\n",
       "      <td>NaN</td>\n",
       "      <td>St Louis, MO</td>\n",
       "    </tr>\n",
       "    <tr>\n",
       "      <th>1</th>\n",
       "      <td>1.0</td>\n",
       "      <td>1.0</td>\n",
       "      <td>Allison, Master. Hudson Trevor</td>\n",
       "      <td>male</td>\n",
       "      <td>0.9167</td>\n",
       "      <td>1.0</td>\n",
       "      <td>2.0</td>\n",
       "      <td>113781</td>\n",
       "      <td>151.5500</td>\n",
       "      <td>C22 C26</td>\n",
       "      <td>S</td>\n",
       "      <td>11</td>\n",
       "      <td>NaN</td>\n",
       "      <td>Montreal, PQ / Chesterville, ON</td>\n",
       "    </tr>\n",
       "    <tr>\n",
       "      <th>2</th>\n",
       "      <td>1.0</td>\n",
       "      <td>0.0</td>\n",
       "      <td>Allison, Miss. Helen Loraine</td>\n",
       "      <td>female</td>\n",
       "      <td>2.0000</td>\n",
       "      <td>1.0</td>\n",
       "      <td>2.0</td>\n",
       "      <td>113781</td>\n",
       "      <td>151.5500</td>\n",
       "      <td>C22 C26</td>\n",
       "      <td>S</td>\n",
       "      <td>NaN</td>\n",
       "      <td>NaN</td>\n",
       "      <td>Montreal, PQ / Chesterville, ON</td>\n",
       "    </tr>\n",
       "    <tr>\n",
       "      <th>3</th>\n",
       "      <td>1.0</td>\n",
       "      <td>0.0</td>\n",
       "      <td>Allison, Mr. Hudson Joshua Creighton</td>\n",
       "      <td>male</td>\n",
       "      <td>30.0000</td>\n",
       "      <td>1.0</td>\n",
       "      <td>2.0</td>\n",
       "      <td>113781</td>\n",
       "      <td>151.5500</td>\n",
       "      <td>C22 C26</td>\n",
       "      <td>S</td>\n",
       "      <td>NaN</td>\n",
       "      <td>135.0</td>\n",
       "      <td>Montreal, PQ / Chesterville, ON</td>\n",
       "    </tr>\n",
       "    <tr>\n",
       "      <th>4</th>\n",
       "      <td>1.0</td>\n",
       "      <td>0.0</td>\n",
       "      <td>Allison, Mrs. Hudson J C (Bessie Waldo Daniels)</td>\n",
       "      <td>female</td>\n",
       "      <td>25.0000</td>\n",
       "      <td>1.0</td>\n",
       "      <td>2.0</td>\n",
       "      <td>113781</td>\n",
       "      <td>151.5500</td>\n",
       "      <td>C22 C26</td>\n",
       "      <td>S</td>\n",
       "      <td>NaN</td>\n",
       "      <td>NaN</td>\n",
       "      <td>Montreal, PQ / Chesterville, ON</td>\n",
       "    </tr>\n",
       "  </tbody>\n",
       "</table>\n",
       "</div>"
      ],
      "text/plain": [
       "   pclass  survived                                             name     sex  \\\n",
       "0     1.0       1.0                    Allen, Miss. Elisabeth Walton  female   \n",
       "1     1.0       1.0                   Allison, Master. Hudson Trevor    male   \n",
       "2     1.0       0.0                     Allison, Miss. Helen Loraine  female   \n",
       "3     1.0       0.0             Allison, Mr. Hudson Joshua Creighton    male   \n",
       "4     1.0       0.0  Allison, Mrs. Hudson J C (Bessie Waldo Daniels)  female   \n",
       "\n",
       "       age  sibsp  parch  ticket      fare    cabin embarked boat   body  \\\n",
       "0  29.0000    0.0    0.0   24160  211.3375       B5        S    2    NaN   \n",
       "1   0.9167    1.0    2.0  113781  151.5500  C22 C26        S   11    NaN   \n",
       "2   2.0000    1.0    2.0  113781  151.5500  C22 C26        S  NaN    NaN   \n",
       "3  30.0000    1.0    2.0  113781  151.5500  C22 C26        S  NaN  135.0   \n",
       "4  25.0000    1.0    2.0  113781  151.5500  C22 C26        S  NaN    NaN   \n",
       "\n",
       "                         home.dest  \n",
       "0                     St Louis, MO  \n",
       "1  Montreal, PQ / Chesterville, ON  \n",
       "2  Montreal, PQ / Chesterville, ON  \n",
       "3  Montreal, PQ / Chesterville, ON  \n",
       "4  Montreal, PQ / Chesterville, ON  "
      ]
     },
     "execution_count": 1,
     "metadata": {},
     "output_type": "execute_result"
    }
   ],
   "source": [
    "import pandas as pd\n",
    "df_ = pd.read_csv(\"Desktop/titanic.csv\")\n",
    "df = df_.copy()\n",
    "df.head()"
   ]
  },
  {
   "cell_type": "markdown",
   "id": "63f60e6b-1494-471c-b82e-0c381d9a8141",
   "metadata": {},
   "source": [
    "# Veri Temizleme"
   ]
  },
  {
   "cell_type": "code",
   "execution_count": 2,
   "id": "41f67611-ff93-41a5-8424-8309f4e17f25",
   "metadata": {},
   "outputs": [
    {
     "data": {
      "text/plain": [
       "pclass          1\n",
       "survived        1\n",
       "name            1\n",
       "sex             1\n",
       "age           264\n",
       "sibsp           1\n",
       "parch           1\n",
       "ticket          1\n",
       "fare            2\n",
       "cabin        1015\n",
       "embarked        3\n",
       "boat          824\n",
       "body         1189\n",
       "home.dest     565\n",
       "dtype: int64"
      ]
     },
     "execution_count": 2,
     "metadata": {},
     "output_type": "execute_result"
    }
   ],
   "source": [
    "df.isnull().sum()"
   ]
  },
  {
   "cell_type": "code",
   "execution_count": 3,
   "id": "279a2c03-f8fa-4259-89c9-c4a59ef77a1e",
   "metadata": {},
   "outputs": [],
   "source": [
    "# Kullanılmayacak sütunları veri setinden çıkarıyorum.\n",
    "df.drop(['body','home.dest'], axis=1, inplace=True)"
   ]
  },
  {
   "cell_type": "code",
   "execution_count": 4,
   "id": "755790bf-5200-4cd0-8c95-7aa9af995316",
   "metadata": {},
   "outputs": [],
   "source": [
    "# Yaş sütununu eksik değerlerini median ile dolduruyorum\n",
    "df['age'] = df['age'].fillna(df['age'].median())"
   ]
  },
  {
   "cell_type": "code",
   "execution_count": 5,
   "id": "37b8f086-37d9-4847-9314-c82c4f56fbcf",
   "metadata": {},
   "outputs": [],
   "source": [
    "# Cabin'in ilk harfini alalım (ön işlem)\n",
    "df['Cabin_Code'] = df['cabin'].apply(lambda x: x[0] if pd.notnull(x) else None)\n",
    "\n",
    "# Fare eksik olan her satır için, aynı Cabin_Code'a sahip kişilerin ortalama ücretini kullan\n",
    "def fill_fare(row):\n",
    "    if pd.isnull(row['fare']) and pd.notnull(row['Cabin_Code']):\n",
    "        # Aynı kabin koduna sahip kişilerin ortalama fare'ını al\n",
    "        similar_cabin_group = df[(df['Cabin_Code'] == row['Cabin_Code']) & (df['fare'].notnull())]\n",
    "        if not similar_cabin_group.empty:\n",
    "            return similar_cabin_group['fare'].mean()\n",
    "    return row['fare']\n",
    "\n",
    "# Uygulama\n",
    "df['fare'] = df.apply(fill_fare, axis=1)"
   ]
  },
  {
   "cell_type": "code",
   "execution_count": 6,
   "id": "bb01e4e5-6c8a-42b7-867a-60ce9f09fbf5",
   "metadata": {},
   "outputs": [],
   "source": [
    "# Ücret sütununu eksik değerlerini median ile dolduruyorum\n",
    "df['fare'] = df['fare'].fillna(df['fare'].median())"
   ]
  },
  {
   "cell_type": "code",
   "execution_count": 7,
   "id": "cdec5a57-dc94-4ad7-864a-0cb5fb28cb7f",
   "metadata": {},
   "outputs": [],
   "source": [
    "# Varış yerleri sütununu eksik değerlerini mod ile dolduruyorum.\n",
    "df['embarked'] = df['embarked'].fillna(df['embarked'].mode()[0])"
   ]
  },
  {
   "cell_type": "code",
   "execution_count": 8,
   "id": "acf32f99-071f-4afc-a2c3-f80d26d7294f",
   "metadata": {},
   "outputs": [
    {
     "data": {
      "text/html": [
       "<div>\n",
       "<style scoped>\n",
       "    .dataframe tbody tr th:only-of-type {\n",
       "        vertical-align: middle;\n",
       "    }\n",
       "\n",
       "    .dataframe tbody tr th {\n",
       "        vertical-align: top;\n",
       "    }\n",
       "\n",
       "    .dataframe thead th {\n",
       "        text-align: right;\n",
       "    }\n",
       "</style>\n",
       "<table border=\"1\" class=\"dataframe\">\n",
       "  <thead>\n",
       "    <tr style=\"text-align: right;\">\n",
       "      <th></th>\n",
       "      <th>pclass</th>\n",
       "      <th>survived</th>\n",
       "      <th>name</th>\n",
       "      <th>sex</th>\n",
       "      <th>age</th>\n",
       "      <th>sibsp</th>\n",
       "      <th>parch</th>\n",
       "      <th>ticket</th>\n",
       "      <th>fare</th>\n",
       "      <th>cabin</th>\n",
       "      <th>embarked</th>\n",
       "      <th>boat</th>\n",
       "      <th>Cabin_Code</th>\n",
       "    </tr>\n",
       "  </thead>\n",
       "  <tbody>\n",
       "    <tr>\n",
       "      <th>0</th>\n",
       "      <td>1.0</td>\n",
       "      <td>1.0</td>\n",
       "      <td>Allen, Miss. Elisabeth Walton</td>\n",
       "      <td>female</td>\n",
       "      <td>29.0000</td>\n",
       "      <td>0.0</td>\n",
       "      <td>0.0</td>\n",
       "      <td>24160</td>\n",
       "      <td>211.3375</td>\n",
       "      <td>B5</td>\n",
       "      <td>S</td>\n",
       "      <td>2</td>\n",
       "      <td>B</td>\n",
       "    </tr>\n",
       "    <tr>\n",
       "      <th>1</th>\n",
       "      <td>1.0</td>\n",
       "      <td>1.0</td>\n",
       "      <td>Allison, Master. Hudson Trevor</td>\n",
       "      <td>male</td>\n",
       "      <td>0.9167</td>\n",
       "      <td>1.0</td>\n",
       "      <td>2.0</td>\n",
       "      <td>113781</td>\n",
       "      <td>151.5500</td>\n",
       "      <td>C22 C26</td>\n",
       "      <td>S</td>\n",
       "      <td>11</td>\n",
       "      <td>C</td>\n",
       "    </tr>\n",
       "    <tr>\n",
       "      <th>2</th>\n",
       "      <td>1.0</td>\n",
       "      <td>0.0</td>\n",
       "      <td>Allison, Miss. Helen Loraine</td>\n",
       "      <td>female</td>\n",
       "      <td>2.0000</td>\n",
       "      <td>1.0</td>\n",
       "      <td>2.0</td>\n",
       "      <td>113781</td>\n",
       "      <td>151.5500</td>\n",
       "      <td>C22 C26</td>\n",
       "      <td>S</td>\n",
       "      <td>NaN</td>\n",
       "      <td>C</td>\n",
       "    </tr>\n",
       "    <tr>\n",
       "      <th>3</th>\n",
       "      <td>1.0</td>\n",
       "      <td>0.0</td>\n",
       "      <td>Allison, Mr. Hudson Joshua Creighton</td>\n",
       "      <td>male</td>\n",
       "      <td>30.0000</td>\n",
       "      <td>1.0</td>\n",
       "      <td>2.0</td>\n",
       "      <td>113781</td>\n",
       "      <td>151.5500</td>\n",
       "      <td>C22 C26</td>\n",
       "      <td>S</td>\n",
       "      <td>NaN</td>\n",
       "      <td>C</td>\n",
       "    </tr>\n",
       "    <tr>\n",
       "      <th>4</th>\n",
       "      <td>1.0</td>\n",
       "      <td>0.0</td>\n",
       "      <td>Allison, Mrs. Hudson J C (Bessie Waldo Daniels)</td>\n",
       "      <td>female</td>\n",
       "      <td>25.0000</td>\n",
       "      <td>1.0</td>\n",
       "      <td>2.0</td>\n",
       "      <td>113781</td>\n",
       "      <td>151.5500</td>\n",
       "      <td>C22 C26</td>\n",
       "      <td>S</td>\n",
       "      <td>NaN</td>\n",
       "      <td>C</td>\n",
       "    </tr>\n",
       "  </tbody>\n",
       "</table>\n",
       "</div>"
      ],
      "text/plain": [
       "   pclass  survived                                             name     sex  \\\n",
       "0     1.0       1.0                    Allen, Miss. Elisabeth Walton  female   \n",
       "1     1.0       1.0                   Allison, Master. Hudson Trevor    male   \n",
       "2     1.0       0.0                     Allison, Miss. Helen Loraine  female   \n",
       "3     1.0       0.0             Allison, Mr. Hudson Joshua Creighton    male   \n",
       "4     1.0       0.0  Allison, Mrs. Hudson J C (Bessie Waldo Daniels)  female   \n",
       "\n",
       "       age  sibsp  parch  ticket      fare    cabin embarked boat Cabin_Code  \n",
       "0  29.0000    0.0    0.0   24160  211.3375       B5        S    2          B  \n",
       "1   0.9167    1.0    2.0  113781  151.5500  C22 C26        S   11          C  \n",
       "2   2.0000    1.0    2.0  113781  151.5500  C22 C26        S  NaN          C  \n",
       "3  30.0000    1.0    2.0  113781  151.5500  C22 C26        S  NaN          C  \n",
       "4  25.0000    1.0    2.0  113781  151.5500  C22 C26        S  NaN          C  "
      ]
     },
     "execution_count": 8,
     "metadata": {},
     "output_type": "execute_result"
    }
   ],
   "source": [
    "df.head()"
   ]
  },
  {
   "cell_type": "code",
   "execution_count": 13,
   "id": "e76ad7be-3265-4f63-a598-66af8470b44d",
   "metadata": {},
   "outputs": [],
   "source": [
    "# Cabin NaN olanlara odaklandım\n",
    "missing_cabin_df = df[df['cabin'].isnull()].copy()"
   ]
  },
  {
   "cell_type": "code",
   "execution_count": 14,
   "id": "12bc8de9-f9f1-45b7-894e-c66c46ca714c",
   "metadata": {},
   "outputs": [],
   "source": [
    "# Cabin değeri olanlara odaklanalım\n",
    "available_cabin_df = df[df['cabin'].notnull()].copy()"
   ]
  },
  {
   "cell_type": "code",
   "execution_count": 15,
   "id": "18e34933-1617-42a4-8d49-998862b8cc4a",
   "metadata": {},
   "outputs": [
    {
     "name": "stdout",
     "output_type": "stream",
     "text": [
      "FamilySize\n",
      "1.0     790\n",
      "2.0     235\n",
      "3.0     159\n",
      "4.0      43\n",
      "6.0      25\n",
      "5.0      22\n",
      "7.0      16\n",
      "11.0     11\n",
      "8.0       8\n",
      "Name: count, dtype: int64\n"
     ]
    }
   ],
   "source": [
    "# FamilySize sütunun oluşturuyorum\n",
    "df['FamilySize'] = df['sibsp'] + df['parch'] +1\n",
    "# +1 kendimide dahil etmek için ekledim\n",
    "print(df['FamilySize'].value_counts())"
   ]
  },
  {
   "cell_type": "code",
   "execution_count": 16,
   "id": "11f9096b-0c64-4a11-b29c-1e5aba020319",
   "metadata": {},
   "outputs": [],
   "source": [
    "# Cabin'i tahmin etmek için fare ve FamilySize eşleşmesi kullanalım\n",
    "for idx, row in missing_cabin_df.iterrows():\n",
    "    # Aynı fare ve FamilySize'e sahip olan ve cabin bilgisi olanları bul\n",
    "    matches = available_cabin_df[\n",
    "        (available_cabin_df['fare'] == row['fare']) &\n",
    "        (available_cabin_df['FamilySize'] == row['FamilySize'])\n",
    "    ]\n",
    "    \n",
    "    if not matches.empty:\n",
    "        # İlk eşleşen kişinin cabin'ini kullan\n",
    "        df.at[idx, 'cabin'] = matches.iloc[0]['cabin']"
   ]
  },
  {
   "cell_type": "code",
   "execution_count": 17,
   "id": "15aedb37-5222-4aa6-96b3-fc671e77d121",
   "metadata": {},
   "outputs": [],
   "source": [
    "df['FareRounded'] = df['fare'].round(0)"
   ]
  },
  {
   "cell_type": "code",
   "execution_count": 18,
   "id": "6963c5f9-03ec-4a40-9571-3567d0f21a96",
   "metadata": {},
   "outputs": [
    {
     "data": {
      "text/plain": [
       "pclass            1\n",
       "survived          1\n",
       "name              1\n",
       "sex               1\n",
       "age               0\n",
       "sibsp             1\n",
       "parch             1\n",
       "ticket            1\n",
       "fare              0\n",
       "cabin           729\n",
       "embarked          0\n",
       "boat            824\n",
       "Cabin_Code     1015\n",
       "FamilySize        1\n",
       "FareRounded       0\n",
       "dtype: int64"
      ]
     },
     "execution_count": 18,
     "metadata": {},
     "output_type": "execute_result"
    }
   ],
   "source": [
    "df.isnull().sum()"
   ]
  },
  {
   "cell_type": "code",
   "execution_count": 19,
   "id": "a2e8b35f-607a-4ed6-82ee-42e8276e0904",
   "metadata": {},
   "outputs": [],
   "source": [
    "# Cabin'i tahmin etmek için fare ve pclass eşleşmesi kullanalım\n",
    "for idx, row in missing_cabin_df.iterrows():\n",
    "    # Aynı fare ve pclass'e sahip olan ve cabin bilgisi olanları bul\n",
    "    matches = available_cabin_df[\n",
    "        (available_cabin_df['fare'] == row['fare']) &\n",
    "    (available_cabin_df['pclass'] == row['pclass'])\n",
    "    ]\n",
    "    \n",
    "    if not matches.empty:\n",
    "        # İlk eşleşen kişinin cabin'ini kullan\n",
    "        df.at[idx, 'cabin'] = matches.iloc[0]['cabin']"
   ]
  },
  {
   "cell_type": "code",
   "execution_count": 20,
   "id": "bd8092f4-2b14-4e82-8e1f-8ec8105aea20",
   "metadata": {},
   "outputs": [],
   "source": [
    "df['cabin'] = df['cabin'].fillna('U')"
   ]
  },
  {
   "cell_type": "code",
   "execution_count": 21,
   "id": "b28a8094-f88e-47ed-9dbb-c2216bad452b",
   "metadata": {},
   "outputs": [
    {
     "data": {
      "text/plain": [
       "pclass            1\n",
       "survived          1\n",
       "name              1\n",
       "sex               1\n",
       "age               0\n",
       "sibsp             1\n",
       "parch             1\n",
       "ticket            1\n",
       "fare              0\n",
       "cabin             0\n",
       "embarked          0\n",
       "boat            824\n",
       "Cabin_Code     1015\n",
       "FamilySize        1\n",
       "FareRounded       0\n",
       "dtype: int64"
      ]
     },
     "execution_count": 21,
     "metadata": {},
     "output_type": "execute_result"
    }
   ],
   "source": [
    "df.isnull().sum()"
   ]
  },
  {
   "cell_type": "code",
   "execution_count": 22,
   "id": "7f3b40a8-a29e-4b10-bbe7-cee5627c6619",
   "metadata": {},
   "outputs": [],
   "source": [
    "# boat değeri olanlara odaklanalım\n",
    "available_boat_df = df[df['boat'].notnull()].copy()"
   ]
  },
  {
   "cell_type": "code",
   "execution_count": 23,
   "id": "fc0995ba-165b-4e0c-a33a-447c2f602a1e",
   "metadata": {},
   "outputs": [],
   "source": [
    "# boat NaN olanlara odaklandım\n",
    "missing_boat_df = df[df['boat'].isnull()].copy()"
   ]
  },
  {
   "cell_type": "code",
   "execution_count": 24,
   "id": "2c137390-de03-4e23-bfdc-00835cbd306c",
   "metadata": {},
   "outputs": [],
   "source": [
    "# Cabin'i tahmin etmek için fare ve FamilySize eşleşmesi kullanalım\n",
    "for idx, row in missing_boat_df.iterrows():\n",
    "    # Aynı fare ve FamilySize'e sahip olan ve cabin bilgisi olanları bul\n",
    "    matches = available_boat_df[\n",
    "        (available_boat_df['fare'] == row['fare']) &\n",
    "    (available_boat_df['ticket'] == row['ticket']) &\n",
    "    (available_boat_df['embarked'] == row['embarked']) &\n",
    "        (available_boat_df['FamilySize'] == row['FamilySize'])\n",
    "    ]\n",
    "    \n",
    "    if not matches.empty:\n",
    "        # İlk eşleşen kişinin cabin'ini kullan\n",
    "        df.at[idx, 'boat'] = matches.iloc[0]['boat']"
   ]
  },
  {
   "cell_type": "code",
   "execution_count": 25,
   "id": "c5da9ae8-ace7-4c77-82ed-4ed432201b96",
   "metadata": {},
   "outputs": [
    {
     "data": {
      "text/plain": [
       "pclass            1\n",
       "survived          1\n",
       "name              1\n",
       "sex               1\n",
       "age               0\n",
       "sibsp             1\n",
       "parch             1\n",
       "ticket            1\n",
       "fare              0\n",
       "cabin             0\n",
       "embarked          0\n",
       "boat            735\n",
       "Cabin_Code     1015\n",
       "FamilySize        1\n",
       "FareRounded       0\n",
       "dtype: int64"
      ]
     },
     "execution_count": 25,
     "metadata": {},
     "output_type": "execute_result"
    }
   ],
   "source": [
    "df.isnull().sum()"
   ]
  },
  {
   "cell_type": "code",
   "execution_count": 26,
   "id": "98a59e57-69f7-4a4a-8756-77c9e679c8b1",
   "metadata": {},
   "outputs": [
    {
     "data": {
      "text/html": [
       "<div>\n",
       "<style scoped>\n",
       "    .dataframe tbody tr th:only-of-type {\n",
       "        vertical-align: middle;\n",
       "    }\n",
       "\n",
       "    .dataframe tbody tr th {\n",
       "        vertical-align: top;\n",
       "    }\n",
       "\n",
       "    .dataframe thead th {\n",
       "        text-align: right;\n",
       "    }\n",
       "</style>\n",
       "<table border=\"1\" class=\"dataframe\">\n",
       "  <thead>\n",
       "    <tr style=\"text-align: right;\">\n",
       "      <th></th>\n",
       "      <th>pclass</th>\n",
       "      <th>survived</th>\n",
       "      <th>name</th>\n",
       "      <th>sex</th>\n",
       "      <th>age</th>\n",
       "      <th>sibsp</th>\n",
       "      <th>parch</th>\n",
       "      <th>ticket</th>\n",
       "      <th>fare</th>\n",
       "      <th>cabin</th>\n",
       "      <th>embarked</th>\n",
       "      <th>boat</th>\n",
       "      <th>Cabin_Code</th>\n",
       "      <th>FamilySize</th>\n",
       "      <th>FareRounded</th>\n",
       "    </tr>\n",
       "  </thead>\n",
       "  <tbody>\n",
       "    <tr>\n",
       "      <th>0</th>\n",
       "      <td>1.0</td>\n",
       "      <td>1.0</td>\n",
       "      <td>Allen, Miss. Elisabeth Walton</td>\n",
       "      <td>female</td>\n",
       "      <td>29.0000</td>\n",
       "      <td>0.0</td>\n",
       "      <td>0.0</td>\n",
       "      <td>24160</td>\n",
       "      <td>211.3375</td>\n",
       "      <td>B5</td>\n",
       "      <td>S</td>\n",
       "      <td>2</td>\n",
       "      <td>B</td>\n",
       "      <td>1.0</td>\n",
       "      <td>211.0</td>\n",
       "    </tr>\n",
       "    <tr>\n",
       "      <th>1</th>\n",
       "      <td>1.0</td>\n",
       "      <td>1.0</td>\n",
       "      <td>Allison, Master. Hudson Trevor</td>\n",
       "      <td>male</td>\n",
       "      <td>0.9167</td>\n",
       "      <td>1.0</td>\n",
       "      <td>2.0</td>\n",
       "      <td>113781</td>\n",
       "      <td>151.5500</td>\n",
       "      <td>C22 C26</td>\n",
       "      <td>S</td>\n",
       "      <td>11</td>\n",
       "      <td>C</td>\n",
       "      <td>4.0</td>\n",
       "      <td>152.0</td>\n",
       "    </tr>\n",
       "    <tr>\n",
       "      <th>2</th>\n",
       "      <td>1.0</td>\n",
       "      <td>0.0</td>\n",
       "      <td>Allison, Miss. Helen Loraine</td>\n",
       "      <td>female</td>\n",
       "      <td>2.0000</td>\n",
       "      <td>1.0</td>\n",
       "      <td>2.0</td>\n",
       "      <td>113781</td>\n",
       "      <td>151.5500</td>\n",
       "      <td>C22 C26</td>\n",
       "      <td>S</td>\n",
       "      <td>11</td>\n",
       "      <td>C</td>\n",
       "      <td>4.0</td>\n",
       "      <td>152.0</td>\n",
       "    </tr>\n",
       "    <tr>\n",
       "      <th>3</th>\n",
       "      <td>1.0</td>\n",
       "      <td>0.0</td>\n",
       "      <td>Allison, Mr. Hudson Joshua Creighton</td>\n",
       "      <td>male</td>\n",
       "      <td>30.0000</td>\n",
       "      <td>1.0</td>\n",
       "      <td>2.0</td>\n",
       "      <td>113781</td>\n",
       "      <td>151.5500</td>\n",
       "      <td>C22 C26</td>\n",
       "      <td>S</td>\n",
       "      <td>11</td>\n",
       "      <td>C</td>\n",
       "      <td>4.0</td>\n",
       "      <td>152.0</td>\n",
       "    </tr>\n",
       "    <tr>\n",
       "      <th>4</th>\n",
       "      <td>1.0</td>\n",
       "      <td>0.0</td>\n",
       "      <td>Allison, Mrs. Hudson J C (Bessie Waldo Daniels)</td>\n",
       "      <td>female</td>\n",
       "      <td>25.0000</td>\n",
       "      <td>1.0</td>\n",
       "      <td>2.0</td>\n",
       "      <td>113781</td>\n",
       "      <td>151.5500</td>\n",
       "      <td>C22 C26</td>\n",
       "      <td>S</td>\n",
       "      <td>11</td>\n",
       "      <td>C</td>\n",
       "      <td>4.0</td>\n",
       "      <td>152.0</td>\n",
       "    </tr>\n",
       "    <tr>\n",
       "      <th>5</th>\n",
       "      <td>1.0</td>\n",
       "      <td>1.0</td>\n",
       "      <td>Anderson, Mr. Harry</td>\n",
       "      <td>male</td>\n",
       "      <td>48.0000</td>\n",
       "      <td>0.0</td>\n",
       "      <td>0.0</td>\n",
       "      <td>19952</td>\n",
       "      <td>26.5500</td>\n",
       "      <td>E12</td>\n",
       "      <td>S</td>\n",
       "      <td>3</td>\n",
       "      <td>E</td>\n",
       "      <td>1.0</td>\n",
       "      <td>27.0</td>\n",
       "    </tr>\n",
       "    <tr>\n",
       "      <th>6</th>\n",
       "      <td>1.0</td>\n",
       "      <td>1.0</td>\n",
       "      <td>Andrews, Miss. Kornelia Theodosia</td>\n",
       "      <td>female</td>\n",
       "      <td>63.0000</td>\n",
       "      <td>1.0</td>\n",
       "      <td>0.0</td>\n",
       "      <td>13502</td>\n",
       "      <td>77.9583</td>\n",
       "      <td>D7</td>\n",
       "      <td>S</td>\n",
       "      <td>10</td>\n",
       "      <td>D</td>\n",
       "      <td>2.0</td>\n",
       "      <td>78.0</td>\n",
       "    </tr>\n",
       "    <tr>\n",
       "      <th>7</th>\n",
       "      <td>1.0</td>\n",
       "      <td>0.0</td>\n",
       "      <td>Andrews, Mr. Thomas Jr</td>\n",
       "      <td>male</td>\n",
       "      <td>39.0000</td>\n",
       "      <td>0.0</td>\n",
       "      <td>0.0</td>\n",
       "      <td>112050</td>\n",
       "      <td>0.0000</td>\n",
       "      <td>A36</td>\n",
       "      <td>S</td>\n",
       "      <td>NaN</td>\n",
       "      <td>A</td>\n",
       "      <td>1.0</td>\n",
       "      <td>0.0</td>\n",
       "    </tr>\n",
       "    <tr>\n",
       "      <th>8</th>\n",
       "      <td>1.0</td>\n",
       "      <td>1.0</td>\n",
       "      <td>Appleton, Mrs. Edward Dale (Charlotte Lamson)</td>\n",
       "      <td>female</td>\n",
       "      <td>53.0000</td>\n",
       "      <td>2.0</td>\n",
       "      <td>0.0</td>\n",
       "      <td>11769</td>\n",
       "      <td>51.4792</td>\n",
       "      <td>C101</td>\n",
       "      <td>S</td>\n",
       "      <td>D</td>\n",
       "      <td>C</td>\n",
       "      <td>3.0</td>\n",
       "      <td>51.0</td>\n",
       "    </tr>\n",
       "    <tr>\n",
       "      <th>9</th>\n",
       "      <td>1.0</td>\n",
       "      <td>0.0</td>\n",
       "      <td>Artagaveytia, Mr. Ramon</td>\n",
       "      <td>male</td>\n",
       "      <td>71.0000</td>\n",
       "      <td>0.0</td>\n",
       "      <td>0.0</td>\n",
       "      <td>PC 17609</td>\n",
       "      <td>49.5042</td>\n",
       "      <td>C90</td>\n",
       "      <td>C</td>\n",
       "      <td>NaN</td>\n",
       "      <td>None</td>\n",
       "      <td>1.0</td>\n",
       "      <td>50.0</td>\n",
       "    </tr>\n",
       "  </tbody>\n",
       "</table>\n",
       "</div>"
      ],
      "text/plain": [
       "   pclass  survived                                             name     sex  \\\n",
       "0     1.0       1.0                    Allen, Miss. Elisabeth Walton  female   \n",
       "1     1.0       1.0                   Allison, Master. Hudson Trevor    male   \n",
       "2     1.0       0.0                     Allison, Miss. Helen Loraine  female   \n",
       "3     1.0       0.0             Allison, Mr. Hudson Joshua Creighton    male   \n",
       "4     1.0       0.0  Allison, Mrs. Hudson J C (Bessie Waldo Daniels)  female   \n",
       "5     1.0       1.0                              Anderson, Mr. Harry    male   \n",
       "6     1.0       1.0                Andrews, Miss. Kornelia Theodosia  female   \n",
       "7     1.0       0.0                           Andrews, Mr. Thomas Jr    male   \n",
       "8     1.0       1.0    Appleton, Mrs. Edward Dale (Charlotte Lamson)  female   \n",
       "9     1.0       0.0                          Artagaveytia, Mr. Ramon    male   \n",
       "\n",
       "       age  sibsp  parch    ticket      fare    cabin embarked boat  \\\n",
       "0  29.0000    0.0    0.0     24160  211.3375       B5        S    2   \n",
       "1   0.9167    1.0    2.0    113781  151.5500  C22 C26        S   11   \n",
       "2   2.0000    1.0    2.0    113781  151.5500  C22 C26        S   11   \n",
       "3  30.0000    1.0    2.0    113781  151.5500  C22 C26        S   11   \n",
       "4  25.0000    1.0    2.0    113781  151.5500  C22 C26        S   11   \n",
       "5  48.0000    0.0    0.0     19952   26.5500      E12        S    3   \n",
       "6  63.0000    1.0    0.0     13502   77.9583       D7        S   10   \n",
       "7  39.0000    0.0    0.0    112050    0.0000      A36        S  NaN   \n",
       "8  53.0000    2.0    0.0     11769   51.4792     C101        S    D   \n",
       "9  71.0000    0.0    0.0  PC 17609   49.5042      C90        C  NaN   \n",
       "\n",
       "  Cabin_Code  FamilySize  FareRounded  \n",
       "0          B         1.0        211.0  \n",
       "1          C         4.0        152.0  \n",
       "2          C         4.0        152.0  \n",
       "3          C         4.0        152.0  \n",
       "4          C         4.0        152.0  \n",
       "5          E         1.0         27.0  \n",
       "6          D         2.0         78.0  \n",
       "7          A         1.0          0.0  \n",
       "8          C         3.0         51.0  \n",
       "9       None         1.0         50.0  "
      ]
     },
     "execution_count": 26,
     "metadata": {},
     "output_type": "execute_result"
    }
   ],
   "source": [
    "df.head(10)"
   ]
  },
  {
   "cell_type": "code",
   "execution_count": 27,
   "id": "60e7fd34-08b5-4adb-aea8-26bd9aa78c6d",
   "metadata": {},
   "outputs": [],
   "source": [
    "def clean_boat(val):\n",
    "    if pd.isnull(val):\n",
    "        return '2'  # NaN olanları 2 yap\n",
    "    try:\n",
    "        # Eğer sadece sayıysa (örneğin '5'), dönüşüm başarılı olur\n",
    "        int(val)\n",
    "        return val  # olduğu gibi bırak\n",
    "    except:\n",
    "        # Sayıya çevrilemiyorsa, içinde karakter veya boşluk vardır\n",
    "        return '2'\n",
    "\n",
    "# Uygula\n",
    "df['boat'] = df['boat'].apply(clean_boat)"
   ]
  },
  {
   "cell_type": "code",
   "execution_count": 28,
   "id": "16ed082e-bfb8-4e75-9089-f9cf48e164db",
   "metadata": {},
   "outputs": [
    {
     "data": {
      "text/plain": [
       "pclass            1\n",
       "survived          1\n",
       "name              1\n",
       "sex               1\n",
       "age               0\n",
       "sibsp             1\n",
       "parch             1\n",
       "ticket            1\n",
       "fare              0\n",
       "cabin             0\n",
       "embarked          0\n",
       "boat              0\n",
       "Cabin_Code     1015\n",
       "FamilySize        1\n",
       "FareRounded       0\n",
       "dtype: int64"
      ]
     },
     "execution_count": 28,
     "metadata": {},
     "output_type": "execute_result"
    }
   ],
   "source": [
    "df.isnull().sum()"
   ]
  },
  {
   "cell_type": "code",
   "execution_count": 29,
   "id": "1c354fd9-1bfe-4aa2-b1fb-c2148384549e",
   "metadata": {},
   "outputs": [],
   "source": [
    "# Burada da Cabin_Code kısmını siliyorum.\n",
    "df.drop(['Cabin_Code'], axis=1, inplace=True)"
   ]
  },
  {
   "cell_type": "code",
   "execution_count": 30,
   "id": "7eaf9dbc-1225-4dd3-870c-ce88606abd38",
   "metadata": {},
   "outputs": [
    {
     "data": {
      "text/html": [
       "<div>\n",
       "<style scoped>\n",
       "    .dataframe tbody tr th:only-of-type {\n",
       "        vertical-align: middle;\n",
       "    }\n",
       "\n",
       "    .dataframe tbody tr th {\n",
       "        vertical-align: top;\n",
       "    }\n",
       "\n",
       "    .dataframe thead th {\n",
       "        text-align: right;\n",
       "    }\n",
       "</style>\n",
       "<table border=\"1\" class=\"dataframe\">\n",
       "  <thead>\n",
       "    <tr style=\"text-align: right;\">\n",
       "      <th></th>\n",
       "      <th>pclass</th>\n",
       "      <th>survived</th>\n",
       "      <th>name</th>\n",
       "      <th>sex</th>\n",
       "      <th>age</th>\n",
       "      <th>sibsp</th>\n",
       "      <th>parch</th>\n",
       "      <th>ticket</th>\n",
       "      <th>fare</th>\n",
       "      <th>cabin</th>\n",
       "      <th>embarked</th>\n",
       "      <th>boat</th>\n",
       "      <th>FamilySize</th>\n",
       "      <th>FareRounded</th>\n",
       "    </tr>\n",
       "  </thead>\n",
       "  <tbody>\n",
       "    <tr>\n",
       "      <th>1305</th>\n",
       "      <td>3.0</td>\n",
       "      <td>0.0</td>\n",
       "      <td>Zabour, Miss. Thamine</td>\n",
       "      <td>female</td>\n",
       "      <td>28.0</td>\n",
       "      <td>1.0</td>\n",
       "      <td>0.0</td>\n",
       "      <td>2665</td>\n",
       "      <td>14.4542</td>\n",
       "      <td>U</td>\n",
       "      <td>C</td>\n",
       "      <td>2</td>\n",
       "      <td>2.0</td>\n",
       "      <td>14.0</td>\n",
       "    </tr>\n",
       "    <tr>\n",
       "      <th>1306</th>\n",
       "      <td>3.0</td>\n",
       "      <td>0.0</td>\n",
       "      <td>Zakarian, Mr. Mapriededer</td>\n",
       "      <td>male</td>\n",
       "      <td>26.5</td>\n",
       "      <td>0.0</td>\n",
       "      <td>0.0</td>\n",
       "      <td>2656</td>\n",
       "      <td>7.2250</td>\n",
       "      <td>U</td>\n",
       "      <td>C</td>\n",
       "      <td>2</td>\n",
       "      <td>1.0</td>\n",
       "      <td>7.0</td>\n",
       "    </tr>\n",
       "    <tr>\n",
       "      <th>1307</th>\n",
       "      <td>3.0</td>\n",
       "      <td>0.0</td>\n",
       "      <td>Zakarian, Mr. Ortin</td>\n",
       "      <td>male</td>\n",
       "      <td>27.0</td>\n",
       "      <td>0.0</td>\n",
       "      <td>0.0</td>\n",
       "      <td>2670</td>\n",
       "      <td>7.2250</td>\n",
       "      <td>U</td>\n",
       "      <td>C</td>\n",
       "      <td>2</td>\n",
       "      <td>1.0</td>\n",
       "      <td>7.0</td>\n",
       "    </tr>\n",
       "    <tr>\n",
       "      <th>1308</th>\n",
       "      <td>3.0</td>\n",
       "      <td>0.0</td>\n",
       "      <td>Zimmerman, Mr. Leo</td>\n",
       "      <td>male</td>\n",
       "      <td>29.0</td>\n",
       "      <td>0.0</td>\n",
       "      <td>0.0</td>\n",
       "      <td>315082</td>\n",
       "      <td>7.8750</td>\n",
       "      <td>U</td>\n",
       "      <td>S</td>\n",
       "      <td>2</td>\n",
       "      <td>1.0</td>\n",
       "      <td>8.0</td>\n",
       "    </tr>\n",
       "    <tr>\n",
       "      <th>1309</th>\n",
       "      <td>NaN</td>\n",
       "      <td>NaN</td>\n",
       "      <td>NaN</td>\n",
       "      <td>NaN</td>\n",
       "      <td>28.0</td>\n",
       "      <td>NaN</td>\n",
       "      <td>NaN</td>\n",
       "      <td>NaN</td>\n",
       "      <td>14.4542</td>\n",
       "      <td>U</td>\n",
       "      <td>S</td>\n",
       "      <td>2</td>\n",
       "      <td>NaN</td>\n",
       "      <td>14.0</td>\n",
       "    </tr>\n",
       "  </tbody>\n",
       "</table>\n",
       "</div>"
      ],
      "text/plain": [
       "      pclass  survived                       name     sex   age  sibsp  parch  \\\n",
       "1305     3.0       0.0      Zabour, Miss. Thamine  female  28.0    1.0    0.0   \n",
       "1306     3.0       0.0  Zakarian, Mr. Mapriededer    male  26.5    0.0    0.0   \n",
       "1307     3.0       0.0        Zakarian, Mr. Ortin    male  27.0    0.0    0.0   \n",
       "1308     3.0       0.0         Zimmerman, Mr. Leo    male  29.0    0.0    0.0   \n",
       "1309     NaN       NaN                        NaN     NaN  28.0    NaN    NaN   \n",
       "\n",
       "      ticket     fare cabin embarked boat  FamilySize  FareRounded  \n",
       "1305    2665  14.4542     U        C    2         2.0         14.0  \n",
       "1306    2656   7.2250     U        C    2         1.0          7.0  \n",
       "1307    2670   7.2250     U        C    2         1.0          7.0  \n",
       "1308  315082   7.8750     U        S    2         1.0          8.0  \n",
       "1309     NaN  14.4542     U        S    2         NaN         14.0  "
      ]
     },
     "execution_count": 30,
     "metadata": {},
     "output_type": "execute_result"
    }
   ],
   "source": [
    "df.tail()"
   ]
  },
  {
   "cell_type": "code",
   "execution_count": 31,
   "id": "ebb6a73c-aa72-4441-8a1d-aaf470879b4d",
   "metadata": {},
   "outputs": [
    {
     "data": {
      "text/plain": [
       "pclass         1\n",
       "survived       1\n",
       "name           1\n",
       "sex            1\n",
       "age            0\n",
       "sibsp          1\n",
       "parch          1\n",
       "ticket         1\n",
       "fare           0\n",
       "cabin          0\n",
       "embarked       0\n",
       "boat           0\n",
       "FamilySize     1\n",
       "FareRounded    0\n",
       "dtype: int64"
      ]
     },
     "execution_count": 31,
     "metadata": {},
     "output_type": "execute_result"
    }
   ],
   "source": [
    "df.isnull().sum()"
   ]
  },
  {
   "cell_type": "markdown",
   "id": "0a54c5d7-ee75-4470-9502-3a46b0d4241f",
   "metadata": {},
   "source": [
    "# Feature Engineering aşamasına geçiyorum. Bu kısımda ham verilerden daha anlamlı ve model için faydalı olabilecek yeni değişkenler oluşturacam"
   ]
  },
  {
   "cell_type": "code",
   "execution_count": 20,
   "id": "e555adbc-6288-46dc-b82f-66203de371e6",
   "metadata": {},
   "outputs": [],
   "source": [
    "# Title ünvan değişikliği oluşturdum"
   ]
  },
  {
   "cell_type": "code",
   "execution_count": 32,
   "id": "dffacf09-ee8f-4de1-a01f-d5553022eaae",
   "metadata": {},
   "outputs": [
    {
     "data": {
      "text/plain": [
       "Title\n",
       "Mr          757\n",
       "Miss        260\n",
       "Mrs         197\n",
       "Master       61\n",
       "Rev           8\n",
       "Dr            8\n",
       "Col           4\n",
       "Mlle          2\n",
       "Ms            2\n",
       "Major         2\n",
       "Capt          1\n",
       "Sir           1\n",
       "Dona          1\n",
       "Jonkheer      1\n",
       "Countess      1\n",
       "Don           1\n",
       "Mme           1\n",
       "Lady          1\n",
       "Name: count, dtype: int64"
      ]
     },
     "execution_count": 32,
     "metadata": {},
     "output_type": "execute_result"
    }
   ],
   "source": [
    "# Name kolonundan ünvanları (Mr, Mrs, Miss, vs.) çıkaralım\n",
    "df['Title'] = df['name'].str.extract(r' ([A-Za-z]+)\\.', expand=False)\n",
    "df['Title'].value_counts()"
   ]
  },
  {
   "cell_type": "code",
   "execution_count": 52,
   "id": "254b2b46-b8ee-4e63-b39d-313de3a1969b",
   "metadata": {},
   "outputs": [],
   "source": [
    "# Ünvanı guruplandırıdım\n",
    "df['Title'] = df['Title'].replace(['Lady', 'Countess','Capt', 'Col', 'Don', 'Dr', \n",
    "                                   'Major', 'Rev', 'Sir', 'Jonkheer', 'Dona'], 'Rare')\n",
    "df['Title'] = df['Title'].replace('Mlle', 'Miss')\n",
    "df['Title'] = df['Title'].replace('Ms', 'Miss')\n",
    "df['Title'] = df['Title'].replace('Mme', 'Mrs')"
   ]
  },
  {
   "cell_type": "code",
   "execution_count": 33,
   "id": "4b439ae1-a836-4e21-a220-889a8a4a97a1",
   "metadata": {},
   "outputs": [],
   "source": [
    "# Ünvanları sayısal değerlere dönüştürdüm\n",
    "df['Title'] = df['Title'].map({'Mr': 0, 'Miss': 1, 'Mrs': 2, 'Master': 3, 'Rare': 4})\n",
    "df['Title'] = df['Title'].fillna(4)"
   ]
  },
  {
   "cell_type": "code",
   "execution_count": 34,
   "id": "b036b5da-3cdb-4fd5-ad6e-2590b967c2c2",
   "metadata": {},
   "outputs": [
    {
     "data": {
      "text/plain": [
       "AgeCategory\n",
       "1    680\n",
       "2    342\n",
       "0    193\n",
       "3     95\n",
       "Name: count, dtype: int64"
      ]
     },
     "execution_count": 34,
     "metadata": {},
     "output_type": "execute_result"
    }
   ],
   "source": [
    "# Yaş kategorisini oluşturma yapıyorum\n",
    "def age_category(age):\n",
    "    if age <=18:\n",
    "        return 0 # Çocuklar\n",
    "    elif age <= 30:\n",
    "        return 1 # Genç\n",
    "    elif age <= 50:\n",
    "        return 2 # Yetişkin\n",
    "    else:\n",
    "        return 3 # Yaşlı\n",
    "df['AgeCategory'] = df['age'].apply(age_category)\n",
    "df['AgeCategory'].value_counts()"
   ]
  },
  {
   "cell_type": "code",
   "execution_count": 35,
   "id": "514f1f97-c34f-428d-bdd1-89336f0bb144",
   "metadata": {},
   "outputs": [
    {
     "data": {
      "text/plain": [
       "FareCategory\n",
       "2    333\n",
       "3    330\n",
       "0    320\n",
       "1    310\n",
       "Name: count, dtype: int64"
      ]
     },
     "execution_count": 35,
     "metadata": {},
     "output_type": "execute_result"
    }
   ],
   "source": [
    "fare_bins = [0, 7.91, 14.454, 31, df['fare'].max()]\n",
    "fare_labels = [0, 1, 2, 3]\n",
    "df['FareCategory'] = pd.cut(df['fare'], bins=fare_bins, labels=fare_labels)\n",
    "df['FareCategory'].value_counts()"
   ]
  },
  {
   "cell_type": "code",
   "execution_count": 36,
   "id": "7f8ffe97-5400-4578-b34f-547bc3b12328",
   "metadata": {},
   "outputs": [],
   "source": [
    "#İsimleri Title çıkartma yapiyorum\n",
    "import re\n",
    "\n",
    "def get_title(name):\n",
    "    if isinstance(name, str):  # name string ise işle\n",
    "        title_search = re.search(r' ([A-Za-z]+)\\.', name)  # raw string kullandık\n",
    "        if title_search:\n",
    "            return title_search.group(1)\n",
    "    return \"Unknown\"  # NaN veya string değilse Unknown döndür"
   ]
  },
  {
   "cell_type": "code",
   "execution_count": 37,
   "id": "7de6b805-cc9b-4599-9072-dd6b4d8a63bd",
   "metadata": {},
   "outputs": [
    {
     "name": "stdout",
     "output_type": "stream",
     "text": [
      "Title\n",
      "Mr          757\n",
      "Miss        260\n",
      "Mrs         197\n",
      "Master       61\n",
      "Dr            8\n",
      "Rev           8\n",
      "Col           4\n",
      "Ms            2\n",
      "Major         2\n",
      "Mlle          2\n",
      "Jonkheer      1\n",
      "Don           1\n",
      "Countess      1\n",
      "Lady          1\n",
      "Dona          1\n",
      "Sir           1\n",
      "Capt          1\n",
      "Mme           1\n",
      "Unknown       1\n",
      "Name: count, dtype: int64\n"
     ]
    }
   ],
   "source": [
    "df['Title'] = df['name'].apply(get_title)\n",
    "print(df['Title'].value_counts())"
   ]
  },
  {
   "cell_type": "code",
   "execution_count": 39,
   "id": "156b7d2d-393d-4918-b82a-d66cd56d84b6",
   "metadata": {},
   "outputs": [
    {
     "name": "stdout",
     "output_type": "stream",
     "text": [
      "Title\n",
      "Mr        757\n",
      "Miss      260\n",
      "Mrs       197\n",
      "Master     61\n",
      "Other      35\n",
      "Name: count, dtype: int64\n"
     ]
    }
   ],
   "source": [
    "# Yaygın olmayan unvanları Other yapalım\n",
    "common_titles = ['Mr', 'Mrs', 'Miss', 'Master']\n",
    "df['Title'] = df['Title'].apply(lambda x: x if x in common_titles else 'Other')\n",
    "\n",
    "print(df['Title'].value_counts())"
   ]
  },
  {
   "cell_type": "code",
   "execution_count": 40,
   "id": "3bc15c0d-d1c2-4666-9617-6cfa80a4e32e",
   "metadata": {},
   "outputs": [],
   "source": [
    "# Label encoding\n",
    "title_mapping = {'Mr':0, 'Mrs':1, 'Miss':2, 'Master':3, 'Other':4}\n",
    "df['Title'] = df['Title'].map(title_mapping)"
   ]
  },
  {
   "cell_type": "code",
   "execution_count": 41,
   "id": "fda8a34d-174c-401b-b9d9-8e8e77b586e2",
   "metadata": {},
   "outputs": [
    {
     "name": "stdout",
     "output_type": "stream",
     "text": [
      "Title\n",
      "0    757\n",
      "2    260\n",
      "1    197\n",
      "3     61\n",
      "4     35\n",
      "Name: count, dtype: int64\n"
     ]
    }
   ],
   "source": [
    "print(df['Title'].value_counts())"
   ]
  },
  {
   "cell_type": "code",
   "execution_count": 42,
   "id": "45b57f97-dbc5-4876-9727-0a4215bbae47",
   "metadata": {},
   "outputs": [],
   "source": [
    "# Cinsiyet değişkjeninin sayısal değerlere çevirdim\n",
    "df['sex'] = df['sex'].map({'male':0, 'female':1})"
   ]
  },
  {
   "cell_type": "code",
   "execution_count": 43,
   "id": "479144dd-37ee-4052-ab50-07b62369a8f8",
   "metadata": {},
   "outputs": [],
   "source": [
    "df['Embarked'] = df['embarked'].map({'S': 0, 'C': 1, 'Q': 2})"
   ]
  },
  {
   "cell_type": "code",
   "execution_count": 44,
   "id": "1b74f704-f482-49cb-8aef-59bd2193ec54",
   "metadata": {},
   "outputs": [
    {
     "name": "stdout",
     "output_type": "stream",
     "text": [
      "Embarked\n",
      "0    917\n",
      "1    270\n",
      "2    123\n",
      "Name: count, dtype: int64\n"
     ]
    }
   ],
   "source": [
    "print(df['Embarked'].value_counts())"
   ]
  },
  {
   "cell_type": "code",
   "execution_count": 45,
   "id": "62f2e46c-9fa6-4dbf-8ae5-1b55ea2897d8",
   "metadata": {},
   "outputs": [
    {
     "name": "stdout",
     "output_type": "stream",
     "text": [
      "FamilySize\n",
      "1.0     790\n",
      "2.0     235\n",
      "3.0     159\n",
      "4.0      43\n",
      "6.0      25\n",
      "5.0      22\n",
      "7.0      16\n",
      "11.0     11\n",
      "8.0       8\n",
      "Name: count, dtype: int64\n"
     ]
    }
   ],
   "source": [
    "# FamilySize sütunun oluşturuyorum\n",
    "df['FamilySize'] = df['sibsp'] + df['parch'] +1\n",
    "# +1 kendimide dahil etmek için ekledim\n",
    "print(df['FamilySize'].value_counts())"
   ]
  },
  {
   "cell_type": "code",
   "execution_count": 46,
   "id": "7a7607c0-3604-47a9-b863-a45a1e1a8876",
   "metadata": {},
   "outputs": [
    {
     "name": "stdout",
     "output_type": "stream",
     "text": [
      "FamilySizeGroup\n",
      "0    790\n",
      "1    437\n",
      "2     83\n",
      "Name: count, dtype: int64\n"
     ]
    }
   ],
   "source": [
    "# Aile göre gruplandırma\n",
    "def family_size_group(size):\n",
    "    if size == 1:\n",
    "        return 0\n",
    "    elif 2 <= size <= 4:\n",
    "        return 1\n",
    "    else:\n",
    "        return 2\n",
    "\n",
    "df['FamilySizeGroup'] = df['FamilySize'].apply(family_size_group)\n",
    "print(df['FamilySizeGroup'].value_counts())"
   ]
  },
  {
   "cell_type": "code",
   "execution_count": 47,
   "id": "d4122306-ffe6-45e6-9f57-1be4075d4d95",
   "metadata": {},
   "outputs": [
    {
     "data": {
      "text/plain": [
       "boat\n",
       "2     851\n",
       "15     46\n",
       "10     40\n",
       "4      40\n",
       "14     40\n",
       "13     39\n",
       "11     32\n",
       "8      31\n",
       "3      29\n",
       "5      29\n",
       "16     28\n",
       "9      26\n",
       "6      26\n",
       "7      24\n",
       "12     24\n",
       "1       5\n",
       "Name: count, dtype: int64"
      ]
     },
     "execution_count": 47,
     "metadata": {},
     "output_type": "execute_result"
    }
   ],
   "source": [
    "df['boat'].value_counts()"
   ]
  },
  {
   "cell_type": "code",
   "execution_count": 48,
   "id": "76c65f75-08a9-4c26-b0bf-a4827081e667",
   "metadata": {},
   "outputs": [
    {
     "data": {
      "text/plain": [
       "BoatCategory\n",
       "0    954\n",
       "2    209\n",
       "1    147\n",
       "Name: count, dtype: int64"
      ]
     },
     "execution_count": 48,
     "metadata": {},
     "output_type": "execute_result"
    }
   ],
   "source": [
    "def categorize_boat(val):\n",
    "    try:\n",
    "        val_int = int(val)\n",
    "        if 1 <= val_int <= 5:\n",
    "            return 0\n",
    "        elif 6 <= val_int <= 10:\n",
    "            return 1\n",
    "        elif 11 <= val_int <= 16:\n",
    "            return 2\n",
    "        else:\n",
    "            return np.nan  # veya örneğin 3 diyebilirsin\n",
    "    except:\n",
    "        return np.nan  # sayıya çevrilemeyenler\n",
    "\n",
    "# Yeni kategorik sütunu oluşturuyorum\n",
    "df['BoatCategory'] = df['boat'].apply(categorize_boat)\n",
    "df['BoatCategory'].value_counts()"
   ]
  },
  {
   "cell_type": "code",
   "execution_count": 49,
   "id": "445a518f-4ded-4f30-af32-5cde1f3951f9",
   "metadata": {},
   "outputs": [
    {
     "data": {
      "text/plain": [
       "cabin\n",
       "U      681\n",
       "D       60\n",
       "E10     60\n",
       "F38     55\n",
       "F2      43\n",
       "      ... \n",
       "B11      1\n",
       "D45      1\n",
       "D49      1\n",
       "B94      1\n",
       "D6       1\n",
       "Name: count, Length: 187, dtype: int64"
      ]
     },
     "execution_count": 49,
     "metadata": {},
     "output_type": "execute_result"
    }
   ],
   "source": [
    "df['cabin'].value_counts()"
   ]
  },
  {
   "cell_type": "code",
   "execution_count": 50,
   "id": "f79220ca-0d25-490e-851d-210512733f49",
   "metadata": {},
   "outputs": [
    {
     "data": {
      "text/plain": [
       "Cabin_Category\n",
       "U    681\n",
       "F    173\n",
       "E    122\n",
       "C    105\n",
       "D    105\n",
       "B     75\n",
       "A     43\n",
       "G      5\n",
       "T      1\n",
       "Name: count, dtype: int64"
      ]
     },
     "execution_count": 50,
     "metadata": {},
     "output_type": "execute_result"
    }
   ],
   "source": [
    "def extract_cabin_category(val):\n",
    "    if pd.isnull(val):\n",
    "        return np.nan  # veya return \"Unknown\"\n",
    "    else:\n",
    "        return str(val)[0]  # ilk harf alınır\n",
    "\n",
    "# Yeni sütun oluştur\n",
    "df['Cabin_Category'] = df['cabin'].apply(extract_cabin_category)\n",
    "df['Cabin_Category'].value_counts()"
   ]
  },
  {
   "cell_type": "code",
   "execution_count": 51,
   "id": "bf194fef-21d1-40d2-8bc8-cfa3218a25ca",
   "metadata": {},
   "outputs": [
    {
     "data": {
      "text/plain": [
       "FareCategory\n",
       "2    333\n",
       "3    330\n",
       "0    320\n",
       "1    310\n",
       "Name: count, dtype: int64"
      ]
     },
     "execution_count": 51,
     "metadata": {},
     "output_type": "execute_result"
    }
   ],
   "source": [
    "df['FareCategory'].value_counts()"
   ]
  },
  {
   "cell_type": "code",
   "execution_count": 52,
   "id": "bab29d13-55bf-40f8-b504-0ffacb73fd0b",
   "metadata": {},
   "outputs": [
    {
     "data": {
      "text/plain": [
       "Cabin_Categorys\n",
       "2.0    333\n",
       "3.0    330\n",
       "0.0    320\n",
       "1.0    310\n",
       "Name: count, dtype: int64"
      ]
     },
     "execution_count": 52,
     "metadata": {},
     "output_type": "execute_result"
    }
   ],
   "source": [
    "# Cabin_Category değerleri için geçerli olanlar\n",
    "valid_cabins = ['A', 'B', 'C', 'D', 'E', 'F', 'G', 'T', 'U']\n",
    "\n",
    "# Yeni sütun oluştur\n",
    "df['Cabin_Categorys'] = df.apply(\n",
    "    lambda row: row['FareCategory'] if row['Cabin_Category'] in valid_cabins else np.nan,\n",
    "    axis=1\n",
    ")\n",
    "df['Cabin_Categorys'].value_counts()"
   ]
  },
  {
   "cell_type": "markdown",
   "id": "df96f4c1-314b-4626-8f18-880c2167bc84",
   "metadata": {},
   "source": [
    "# Model eğitim kısmım"
   ]
  },
  {
   "cell_type": "code",
   "execution_count": 56,
   "id": "1b5637a8-796e-4b1d-97fe-b919d095df1a",
   "metadata": {},
   "outputs": [
    {
     "name": "stdout",
     "output_type": "stream",
     "text": [
      "Accuracy: 0.851145038167939\n",
      "Classification Report:\n",
      "               precision    recall  f1-score   support\n",
      "\n",
      "         0.0       0.81      0.96      0.88       150\n",
      "         1.0       0.93      0.71      0.80       112\n",
      "\n",
      "    accuracy                           0.85       262\n",
      "   macro avg       0.87      0.83      0.84       262\n",
      "weighted avg       0.86      0.85      0.85       262\n",
      "\n",
      "Confusion Matrix:\n",
      " [[144   6]\n",
      " [ 33  79]]\n"
     ]
    }
   ],
   "source": [
    "from sklearn.model_selection import train_test_split\n",
    "from sklearn.preprocessing import StandardScaler\n",
    "from sklearn.tree import DecisionTreeClassifier\n",
    "from sklearn.metrics import accuracy_score, classification_report, confusion_matrix\n",
    "import pandas as pd\n",
    "\n",
    "# 1. Kullandığım sütunlar\n",
    "features = ['pclass', 'sex', 'AgeCategory', 'FareCategory', 'Embarked', 'Title', 'FamilySizeGroup', 'BoatCategory', 'Cabin_Categorys']\n",
    "\n",
    "# Kategorik değişkenler için one-hot encoding\n",
    "df_model = pd.get_dummies(df[features], drop_first=True)\n",
    "\n",
    "# Hedef değişken\n",
    "y = df['survived']\n",
    "\n",
    "# 2. Veri setini ayırma\n",
    "X_train, X_test, y_train, y_test = train_test_split(df_model, y, test_size=0.2, random_state=42)\n",
    "\n",
    "# Eksik verileri temizleme\n",
    "X_train = X_train.dropna(subset=['pclass', 'sex'])\n",
    "y_train = y_train[X_train.index]  # X_train ile aynı indeksleri koru\n",
    "\n",
    "# 3. Decision Tree modelini oluşturdum ve eğittim\n",
    "# Parametreleri ayarlama kısmı\n",
    "model = DecisionTreeClassifier(\n",
    "    max_depth=5,  # Ağacın maksimum derinliği (aşırı öğrenmeyi önlemek için)\n",
    "    min_samples_split=10,  # Bölünme için minimum örnek sayısı\n",
    "    min_samples_leaf=5,    # Yaprak düğümler için minimum örnek sayısı\n",
    "    random_state=42\n",
    ")\n",
    "\n",
    "model.fit(X_train, y_train)\n",
    "\n",
    "# Tahmin ve değerlendirme kısmı\n",
    "y_pred = model.predict(X_test)\n",
    "\n",
    "print(\"Accuracy:\", accuracy_score(y_test, y_pred))\n",
    "print(\"Classification Report:\\n\", classification_report(y_test, y_pred))\n",
    "print(\"Confusion Matrix:\\n\", confusion_matrix(y_test, y_pred))"
   ]
  },
  {
   "cell_type": "code",
   "execution_count": 61,
   "id": "dcdaee5d-a560-4270-9c78-9457cc54bb2b",
   "metadata": {
    "scrolled": true
   },
   "outputs": [
    {
     "name": "stdout",
     "output_type": "stream",
     "text": [
      "1. Yolcu → Hayatta kaldı ✅\n",
      "2. Yolcu → Hayatta kaldı ✅\n",
      "3. Yolcu → Hayatta kaldı ✅\n",
      "4. Yolcu → Hayatta kaldı ✅\n",
      "5. Yolcu → Hayatta kaldı ✅\n",
      "6. Yolcu → Hayatta kalamadı ❌\n",
      "7. Yolcu → Hayatta kaldı ✅\n",
      "8. Yolcu → Hayatta kalamadı ❌\n"
     ]
    }
   ],
   "source": [
    "# Test verisini oluşturuyorum\n",
    "test_data = pd.DataFrame([\n",
    "    # 1. Sınıf Kadınlar için hayatta kalma senaryoları.\n",
    "    {'pclass': 0, 'sex': 1, 'AgeCategory': 0, 'FareCategory': 1, 'Embarked':0, 'Title': 0, 'FamilySizeGroup': 3, 'BoatCategory': 0, 'Cabin_Categorys': 0},\n",
    "    {'pclass': 0, 'sex': 1, 'AgeCategory': 0, 'FareCategory': 2, 'Embarked':0, 'Title': 1, 'FamilySizeGroup': 3, 'BoatCategory': 0, 'Cabin_Categorys': 1},\n",
    "    {'pclass': 1, 'sex': 1, 'AgeCategory': 1, 'FareCategory': 0, 'Embarked':0, 'Title': 1, 'FamilySizeGroup': 1, 'BoatCategory': 1, 'Cabin_Categorys': 2},\n",
    "    {'pclass': 1, 'sex': 1, 'AgeCategory': 1, 'FareCategory': 2, 'Embarked':0, 'Title': 0, 'FamilySizeGroup': 0, 'BoatCategory': 1, 'Cabin_Categorys': 0},\n",
    "    {'pclass': 2, 'sex': 1, 'AgeCategory': 2, 'FareCategory': 2, 'Embarked':0, 'Title': 0, 'FamilySizeGroup': 0, 'BoatCategory': 2, 'Cabin_Categorys': 1},\n",
    "    {'pclass': 2, 'sex': 1, 'AgeCategory': 2, 'FareCategory': 1, 'Embarked':0, 'Title': 1, 'FamilySizeGroup': 0, 'BoatCategory': 0, 'Cabin_Categorys': 0},\n",
    "    {'pclass': 3, 'sex': 1, 'AgeCategory': 3, 'FareCategory': 0, 'Embarked':0, 'Title': 0, 'FamilySizeGroup': 0, 'BoatCategory': 3, 'Cabin_Categorys': 1},\n",
    "    {'pclass': 3, 'sex': 1, 'AgeCategory': 3, 'FareCategory': 2, 'Embarked':0, 'Title': 1, 'FamilySizeGroup': 0, 'BoatCategory': 0, 'Cabin_Categorys': 0}\n",
    "])\n",
    "\n",
    "# One-hot encoding uyguladım.\n",
    "test_data_encoded = pd.get_dummies(test_data, drop_first=True)\n",
    "\n",
    "# Eğitim verisinde olan ama test verisinde olmayan sütunları ekledim\n",
    "missing_cols = set(X_train.columns) - set(test_data_encoded.columns)\n",
    "for col in missing_cols:\n",
    "    test_data_encoded[col] = 0\n",
    "\n",
    "# Sütunları eğitim verisiyle aynı sıraya getirdim\n",
    "test_data_encoded = test_data_encoded[X_train.columns]\n",
    "\n",
    "# Tahminleri yapıyorum.\n",
    "predictions = model.predict(test_data_encoded)\n",
    "\n",
    "# Sonuçları gösteriyorum.\n",
    "for i, result in enumerate(predictions, 1):\n",
    "    print(f\"{i}. Yolcu → {'Hayatta kaldı ✅' if result == 1 else 'Hayatta kalamadı ❌'}\")"
   ]
  },
  {
   "cell_type": "code",
   "execution_count": null,
   "id": "afad0002-00cb-4e3b-b461-e54f89d3baac",
   "metadata": {},
   "outputs": [],
   "source": []
  }
 ],
 "metadata": {
  "kernelspec": {
   "display_name": "Python 3 (ipykernel)",
   "language": "python",
   "name": "python3"
  },
  "language_info": {
   "codemirror_mode": {
    "name": "ipython",
    "version": 3
   },
   "file_extension": ".py",
   "mimetype": "text/x-python",
   "name": "python",
   "nbconvert_exporter": "python",
   "pygments_lexer": "ipython3",
   "version": "3.12.7"
  }
 },
 "nbformat": 4,
 "nbformat_minor": 5
}
